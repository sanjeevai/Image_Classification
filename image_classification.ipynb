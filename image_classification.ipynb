{
 "cells": [
  {
   "cell_type": "markdown",
   "metadata": {
    "collapsed": true
   },
   "source": [
    "# Image Classification\n",
    "In this project, you'll classify images from the [CIFAR-10 dataset](https://www.cs.toronto.edu/~kriz/cifar.html).  The dataset consists of airplanes, dogs, cats, and other objects. You'll preprocess the images, then train a convolutional neural network on all the samples. The images need to be normalized and the labels need to be one-hot encoded.  You'll get to apply what you learned and build a convolutional, max pooling, dropout, and fully connected layers.  At the end, you'll get to see your neural network's predictions on the sample images.\n",
    "## Get the Data\n",
    "Run the following cell to download the [CIFAR-10 dataset for python](https://www.cs.toronto.edu/~kriz/cifar-10-python.tar.gz)."
   ]
  },
  {
   "cell_type": "code",
   "execution_count": 1,
   "metadata": {},
   "outputs": [
    {
     "name": "stderr",
     "output_type": "stream",
     "text": [
      "/anaconda3/envs/tensorflow/lib/python3.5/importlib/_bootstrap.py:222: RuntimeWarning: compiletime version 3.6 of module 'tensorflow.python.framework.fast_tensor_util' does not match runtime version 3.5\n",
      "  return f(*args, **kwds)\n",
      "CIFAR-10 Dataset: 171MB [02:14, 1.27MB/s]                              \n"
     ]
    },
    {
     "name": "stdout",
     "output_type": "stream",
     "text": [
      "All files found!\n"
     ]
    }
   ],
   "source": [
    "\"\"\"\n",
    "DON'T MODIFY ANYTHING IN THIS CELL THAT IS BELOW THIS LINE\n",
    "\"\"\"\n",
    "from urllib.request import urlretrieve\n",
    "from os.path import isfile, isdir\n",
    "from tqdm import tqdm\n",
    "import problem_unittests as tests\n",
    "import tarfile\n",
    "\n",
    "cifar10_dataset_folder_path = 'cifar-10-batches-py'\n",
    "\n",
    "class DLProgress(tqdm):\n",
    "    last_block = 0\n",
    "\n",
    "    def hook(self, block_num=1, block_size=1, total_size=None):\n",
    "        self.total = total_size\n",
    "        self.update((block_num - self.last_block) * block_size)\n",
    "        self.last_block = block_num\n",
    "\n",
    "if not isfile('cifar-10-python.tar.gz'):\n",
    "    with DLProgress(unit='B', unit_scale=True, miniters=1, desc='CIFAR-10 Dataset') as pbar:\n",
    "        urlretrieve(\n",
    "            'https://www.cs.toronto.edu/~kriz/cifar-10-python.tar.gz',\n",
    "            'cifar-10-python.tar.gz',\n",
    "            pbar.hook)\n",
    "\n",
    "if not isdir(cifar10_dataset_folder_path):\n",
    "    with tarfile.open('cifar-10-python.tar.gz') as tar:\n",
    "        tar.extractall()\n",
    "        tar.close()\n",
    "\n",
    "\n",
    "tests.test_folder_path(cifar10_dataset_folder_path)"
   ]
  },
  {
   "cell_type": "markdown",
   "metadata": {},
   "source": [
    "## Explore the Data\n",
    "The dataset is broken into batches to prevent your machine from running out of memory.  The CIFAR-10 dataset consists of 5 batches, named `data_batch_1`, `data_batch_2`, etc.. Each batch contains the labels and images that are one of the following:\n",
    "* airplane\n",
    "* automobile\n",
    "* bird\n",
    "* cat\n",
    "* deer\n",
    "* dog\n",
    "* frog\n",
    "* horse\n",
    "* ship\n",
    "* truck\n",
    "\n",
    "Understanding a dataset is part of making predictions on the data.  Play around with the code cell below by changing the `batch_id` and `sample_id`. The `batch_id` is the id for a batch (1-5). The `sample_id` is the id for a image and label pair in the batch.\n",
    "\n",
    "Ask yourself \"What are all possible labels?\", \"What is the range of values for the image data?\", \"Are the labels in order or random?\".  Answers to questions like these will help you preprocess the data and end up with better predictions."
   ]
  },
  {
   "cell_type": "code",
   "execution_count": 2,
   "metadata": {},
   "outputs": [
    {
     "name": "stdout",
     "output_type": "stream",
     "text": [
      "\n",
      "Stats of batch 1:\n",
      "Samples: 10000\n",
      "Label Counts: {0: 1005, 1: 974, 2: 1032, 3: 1016, 4: 999, 5: 937, 6: 1030, 7: 1001, 8: 1025, 9: 981}\n",
      "First 20 Labels: [6, 9, 9, 4, 1, 1, 2, 7, 8, 3, 4, 7, 7, 2, 9, 9, 9, 3, 2, 6]\n",
      "\n",
      "Example of Image 5:\n",
      "Image - Min Value: 0 Max Value: 252\n",
      "Image - Shape: (32, 32, 3)\n",
      "Label - Label Id: 1 Name: automobile\n"
     ]
    },
    {
     "data": {
      "image/png": "[encoded data removed]",
      "text/plain": [
       "<matplotlib.figure.Figure at 0x181d06efd0>"
      ]
     },
     "metadata": {
      "image/png": {
       "height": 250,
       "width": 253
      }
     },
     "output_type": "display_data"
    }
   ],
   "source": [
    "%matplotlib inline\n",
    "%config InlineBackend.figure_format = 'retina'\n",
    "\n",
    "import helper\n",
    "import numpy as np\n",
    "\n",
    "# Explore the dataset\n",
    "batch_id = 1\n",
    "sample_id = 5\n",
    "helper.display_stats(cifar10_dataset_folder_path, batch_id, sample_id)"
   ]
  },
  {
   "cell_type": "markdown",
   "metadata": {},
   "source": [
    "## Implement Preprocess Functions\n",
    "### Normalize\n",
    "In the cell below, implement the `normalize` function to take in image data, `x`, and return it as a normalized Numpy array. The values should be in the range of 0 to 1, inclusive.  The return object should be the same shape as `x`."
   ]
  },
  {
   "cell_type": "code",
   "execution_count": 3,
   "metadata": {},
   "outputs": [
    {
     "name": "stdout",
     "output_type": "stream",
     "text": [
      "Tests Passed\n"
     ]
    }
   ],
   "source": [
    "def normalize(x):\n",
    "    \"\"\"\n",
    "    Normalize a list of sample image data in the range of 0 to 1\n",
    "    : x: List of image data.  The image shape is (32, 32, 3)\n",
    "    : return: Numpy array of normalize data\n",
    "    \"\"\"\n",
    "    x_min = np.min(x)\n",
    "    x_max = np.max(x)\n",
    "    x_norm = list()\n",
    "    for image in x:\n",
    "        x_norm.append((image - x_min)/(x_max - x_min))\n",
    "    return np.array(x_norm)\n",
    "\n",
    "\n",
    "\"\"\"\n",
    "DON'T MODIFY ANYTHING IN THIS CELL THAT IS BELOW THIS LINE\n",
    "\"\"\"\n",
    "tests.test_normalize(normalize)"
   ]
  },
  {
   "cell_type": "markdown",
   "metadata": {},
   "source": [
    "### One-hot encode\n",
    "Just like the previous code cell, you'll be implementing a function for preprocessing.  This time, you'll implement the `one_hot_encode` function. The input, `x`, are a list of labels.  Implement the function to return the list of labels as One-Hot encoded Numpy array.  The possible values for labels are 0 to 9. The one-hot encoding function should return the same encoding for each value between each call to `one_hot_encode`.  Make sure to save the map of encodings outside the function.\n",
    "\n",
    "**Hint:**\n",
    "\n",
    "Look into LabelBinarizer in the preprocessing module of sklearn."
   ]
  },
  {
   "cell_type": "code",
   "execution_count": 4,
   "metadata": {},
   "outputs": [
    {
     "name": "stdout",
     "output_type": "stream",
     "text": [
      "Tests Passed\n"
     ]
    }
   ],
   "source": [
    "def one_hot_encode(x, n = 10):\n",
    "    \"\"\"\n",
    "    One hot encode a list of sample labels. Return a one-hot encoded vector for each label.\n",
    "    : x: List of sample Labels\n",
    "    : return: Numpy array of one-hot encoded labels\n",
    "    \"\"\"\n",
    "    from sklearn.preprocessing import OneHotEncoder\n",
    "    one_hot = OneHotEncoder(n_values = n)\n",
    "    one_hot_encoded = one_hot.fit_transform(np.array(x).reshape(-1,1)).toarray()\n",
    "    return one_hot_encoded\n",
    "\n",
    "\n",
    "\"\"\"\n",
    "DON'T MODIFY ANYTHING IN THIS CELL THAT IS BELOW THIS LINE\n",
    "\"\"\"\n",
    "tests.test_one_hot_encode(one_hot_encode)"
   ]
  },
  {
   "cell_type": "markdown",
   "metadata": {},
   "source": [
    "### Randomize Data\n",
    "As you saw from exploring the data above, the order of the samples are randomized.  It doesn't hurt to randomize it again, but you don't need to for this dataset."
   ]
  },
  {
   "cell_type": "markdown",
   "metadata": {},
   "source": [
    "## Preprocess all the data and save it\n",
    "Running the code cell below will preprocess all the CIFAR-10 data and save it to file. The code below also uses 10% of the training data for validation."
   ]
  },
  {
   "cell_type": "code",
   "execution_count": 5,
   "metadata": {},
   "outputs": [],
   "source": [
    "\"\"\"\n",
    "DON'T MODIFY ANYTHING IN THIS CELL\n",
    "\"\"\"\n",
    "# Preprocess Training, Validation, and Testing Data\n",
    "helper.preprocess_and_save_data(cifar10_dataset_folder_path, normalize, one_hot_encode)"
   ]
  },
  {
   "cell_type": "markdown",
   "metadata": {},
   "source": [
    "# Check Point\n",
    "This is your first checkpoint.  If you ever decide to come back to this notebook or have to restart the notebook, you can start from here.  The preprocessed data has been saved to disk."
   ]
  },
  {
   "cell_type": "code",
   "execution_count": 6,
   "metadata": {},
   "outputs": [],
   "source": [
    "\"\"\"\n",
    "DON'T MODIFY ANYTHING IN THIS CELL\n",
    "\"\"\"\n",
    "import pickle\n",
    "import problem_unittests as tests\n",
    "import helper\n",
    "\n",
    "# Load the Preprocessed Validation data\n",
    "valid_features, valid_labels = pickle.load(open('preprocess_validation.p', mode='rb'))"
   ]
  },
  {
   "cell_type": "markdown",
   "metadata": {},
   "source": [
    "## Build the network\n",
    "For the neural network, you'll build each layer into a function.  Most of the code you've seen has been outside of functions. To test your code more thoroughly, we require that you put each layer in a function.  This allows us to give you better feedback and test for simple mistakes using our unittests before you submit your project.\n",
    "\n",
    ">**Note:** If you're finding it hard to dedicate enough time for this course each week, we've provided a small shortcut to this part of the project. In the next couple of problems, you'll have the option to use classes from the [TensorFlow Layers](https://www.tensorflow.org/api_docs/python/tf/layers) or [TensorFlow Layers (contrib)](https://www.tensorflow.org/api_guides/python/contrib.layers) packages to build each layer, except the layers you build in the \"Convolutional and Max Pooling Layer\" section.  TF Layers is similar to Keras's and TFLearn's abstraction to layers, so it's easy to pickup.\n",
    "\n",
    ">However, if you would like to get the most out of this course, try to solve all the problems _without_ using anything from the TF Layers packages. You **can** still use classes from other packages that happen to have the same name as ones you find in TF Layers! For example, instead of using the TF Layers version of the `conv2d` class, [tf.layers.conv2d](https://www.tensorflow.org/api_docs/python/tf/layers/conv2d), you would want to use the TF Neural Network version of `conv2d`, [tf.nn.conv2d](https://www.tensorflow.org/api_docs/python/tf/nn/conv2d). \n",
    "\n",
    "Let's begin!\n",
    "\n",
    "### Input\n",
    "The neural network needs to read the image data, one-hot encoded labels, and dropout keep probability. Implement the following functions\n",
    "* Implement `neural_net_image_input`\n",
    " * Return a [TF Placeholder](https://www.tensorflow.org/api_docs/python/tf/placeholder)\n",
    " * Set the shape using `image_shape` with batch size set to `None`.\n",
    " * Name the TensorFlow placeholder \"x\" using the TensorFlow `name` parameter in the [TF Placeholder](https://www.tensorflow.org/api_docs/python/tf/placeholder).\n",
    "* Implement `neural_net_label_input`\n",
    " * Return a [TF Placeholder](https://www.tensorflow.org/api_docs/python/tf/placeholder)\n",
    " * Set the shape using `n_classes` with batch size set to `None`.\n",
    " * Name the TensorFlow placeholder \"y\" using the TensorFlow `name` parameter in the [TF Placeholder](https://www.tensorflow.org/api_docs/python/tf/placeholder).\n",
    "* Implement `neural_net_keep_prob_input`\n",
    " * Return a [TF Placeholder](https://www.tensorflow.org/api_docs/python/tf/placeholder) for dropout keep probability.\n",
    " * Name the TensorFlow placeholder \"keep_prob\" using the TensorFlow `name` parameter in the [TF Placeholder](https://www.tensorflow.org/api_docs/python/tf/placeholder).\n",
    "\n",
    "These names will be used at the end of the project to load your saved model.\n",
    "\n",
    "Note: `None` for shapes in TensorFlow allow for a dynamic size."
   ]
  },
  {
   "cell_type": "code",
   "execution_count": 7,
   "metadata": {},
   "outputs": [
    {
     "name": "stdout",
     "output_type": "stream",
     "text": [
      "Image Input Tests Passed.\n",
      "Label Input Tests Passed.\n",
      "Keep Prob Tests Passed.\n"
     ]
    }
   ],
   "source": [
    "import tensorflow as tf\n",
    "\n",
    "def neural_net_image_input(image_shape):\n",
    "    \"\"\"\n",
    "    Return a Tensor for a batch of image input\n",
    "    : image_shape: Shape of the images\n",
    "    : return: Tensor for image input.\n",
    "    \"\"\"\n",
    "    # TODO: Implement Function\n",
    "    return tf.placeholder(dtype = tf.float32, shape = [None, image_shape[0], image_shape[1], image_shape[2]], name = 'x')\n",
    "\n",
    "\n",
    "def neural_net_label_input(n_classes):\n",
    "    \"\"\"\n",
    "    Return a Tensor for a batch of label input\n",
    "    : n_classes: Number of classes\n",
    "    : return: Tensor for label input.\n",
    "    \"\"\"\n",
    "    # TODO: Implement Function\n",
    "    return tf.placeholder(dtype = tf.float32, shape = [None, n_classes], name = 'y')\n",
    "\n",
    "\n",
    "def neural_net_keep_prob_input():\n",
    "    \"\"\"\n",
    "    Return a Tensor for keep probability\n",
    "    : return: Tensor for keep probability.\n",
    "    \"\"\"\n",
    "    # TODO: Implement Function\n",
    "    return tf.placeholder(dtype = tf.float32, name = 'keep_prob')\n",
    "\n",
    "\n",
    "\"\"\"\n",
    "DON'T MODIFY ANYTHING IN THIS CELL THAT IS BELOW THIS LINE\n",
    "\"\"\"\n",
    "tf.reset_default_graph()\n",
    "tests.test_nn_image_inputs(neural_net_image_input)\n",
    "tests.test_nn_label_inputs(neural_net_label_input)\n",
    "tests.test_nn_keep_prob_inputs(neural_net_keep_prob_input)"
   ]
  },
  {
   "cell_type": "markdown",
   "metadata": {},
   "source": [
    "### Convolution and Max Pooling Layer\n",
    "Convolution layers have a lot of success with images. For this code cell, you should implement the function `conv2d_maxpool` to apply convolution then max pooling:\n",
    "* Create the weight and bias using `conv_ksize`, `conv_num_outputs` and the shape of `x_tensor`.\n",
    "* Apply a convolution to `x_tensor` using weight and `conv_strides`.\n",
    " * We recommend you use same padding, but you're welcome to use any padding.\n",
    "* Add bias\n",
    "* Add a nonlinear activation to the convolution.\n",
    "* Apply Max Pooling using `pool_ksize` and `pool_strides`.\n",
    " * We recommend you use same padding, but you're welcome to use any padding.\n",
    "\n",
    "**Note:** You **can't** use [TensorFlow Layers](https://www.tensorflow.org/api_docs/python/tf/layers) or [TensorFlow Layers (contrib)](https://www.tensorflow.org/api_guides/python/contrib.layers) for **this** layer, but you can still use TensorFlow's [Neural Network](https://www.tensorflow.org/api_docs/python/tf/nn) package. You may still use the shortcut option for all the **other** layers.\n",
    "\n",
    "** Hint: **\n",
    "\n",
    "When unpacking values as an argument in Python, look into the [unpacking](https://docs.python.org/3/tutorial/controlflow.html#unpacking-argument-lists) operator. "
   ]
  },
  {
   "cell_type": "code",
   "execution_count": 8,
   "metadata": {
    "scrolled": true
   },
   "outputs": [
    {
     "name": "stdout",
     "output_type": "stream",
     "text": [
      "Tests Passed\n"
     ]
    }
   ],
   "source": [
    "def conv2d_maxpool(x_tensor, conv_num_outputs, conv_ksize, conv_strides, pool_ksize, pool_strides):\n",
    "    \"\"\"\n",
    "    Apply convolution then max pooling to x_tensor\n",
    "    :param x_tensor: TensorFlow Tensor\n",
    "    :param conv_num_outputs: Number of outputs for the convolutional layer\n",
    "    :param conv_ksize: kernal size 2-D Tuple for the convolutional layer\n",
    "    :param conv_strides: Stride 2-D Tuple for convolution\n",
    "    :param pool_ksize: kernal size 2-D Tuple for pool\n",
    "    :param pool_strides: Stride 2-D Tuple for pool\n",
    "    : return: A tensor that represents convolution and max pooling of x_tensor\n",
    "    \"\"\"\n",
    "    # TODO: Implement Function\n",
    "    w = tf.Variable(tf.random_normal(shape = [conv_ksize[0],\n",
    "                                             conv_ksize[1],\n",
    "                                             x_tensor.get_shape().as_list()[3],\n",
    "                                             conv_num_outputs],\n",
    "                                    stddev = 0.1))\n",
    "    b = tf.Variable(tf.zeros(conv_num_outputs, dtype = tf.float32))\n",
    "    x_tensor = tf.nn.conv2d(x_tensor,\n",
    "                            w,\n",
    "                            [1, conv_strides[0], conv_strides[1], 1],\n",
    "                           padding = 'SAME')\n",
    "    x_tensor = tf.nn.bias_add(x_tensor, b)\n",
    "    \n",
    "    x_tensor = tf.nn.relu(x_tensor)\n",
    "    \n",
    "    x_tensor = tf.nn.max_pool(x_tensor,\n",
    "                            [1, pool_ksize[0], pool_ksize[1], 1],\n",
    "                            [1, pool_strides[0], pool_strides[1], 1],\n",
    "                            padding = 'SAME')\n",
    "    return x_tensor\n",
    "\n",
    "\n",
    "\"\"\"\n",
    "DON'T MODIFY ANYTHING IN THIS CELL THAT IS BELOW THIS LINE\n",
    "\"\"\"\n",
    "tests.test_con_pool(conv2d_maxpool)"
   ]
  },
  {
   "cell_type": "markdown",
   "metadata": {},
   "source": [
    "### Flatten Layer\n",
    "Implement the `flatten` function to change the dimension of `x_tensor` from a 4-D tensor to a 2-D tensor.  The output should be the shape (*Batch Size*, *Flattened Image Size*). Shortcut option: you can use classes from the [TensorFlow Layers](https://www.tensorflow.org/api_docs/python/tf/layers) or [TensorFlow Layers (contrib)](https://www.tensorflow.org/api_guides/python/contrib.layers) packages for this layer. For more of a challenge, only use other TensorFlow packages."
   ]
  },
  {
   "cell_type": "code",
   "execution_count": 9,
   "metadata": {},
   "outputs": [
    {
     "name": "stdout",
     "output_type": "stream",
     "text": [
      "Tests Passed\n"
     ]
    }
   ],
   "source": [
    "def flatten(x_tensor):\n",
    "    \"\"\"\n",
    "    Flatten x_tensor to (Batch Size, Flattened Image Size)\n",
    "    : x_tensor: A tensor of size (Batch Size, ...), where ... are the image dimensions.\n",
    "    : return: A tensor of size (Batch Size, Flattened Image Size).\n",
    "    \"\"\"\n",
    "    # TODO: Implement Function\n",
    "    \n",
    "    return tf.contrib.layers.flatten(x_tensor)\n",
    "\n",
    "\n",
    "\"\"\"\n",
    "DON'T MODIFY ANYTHING IN THIS CELL THAT IS BELOW THIS LINE\n",
    "\"\"\"\n",
    "tests.test_flatten(flatten)"
   ]
  },
  {
   "cell_type": "markdown",
   "metadata": {},
   "source": [
    "### Fully-Connected Layer\n",
    "Implement the `fully_conn` function to apply a fully connected layer to `x_tensor` with the shape (*Batch Size*, *num_outputs*). Shortcut option: you can use classes from the [TensorFlow Layers](https://www.tensorflow.org/api_docs/python/tf/layers) or [TensorFlow Layers (contrib)](https://www.tensorflow.org/api_guides/python/contrib.layers) packages for this layer. For more of a challenge, only use other TensorFlow packages."
   ]
  },
  {
   "cell_type": "code",
   "execution_count": 10,
   "metadata": {},
   "outputs": [
    {
     "name": "stdout",
     "output_type": "stream",
     "text": [
      "Tests Passed\n"
     ]
    }
   ],
   "source": [
    "def fully_conn(x_tensor, num_outputs):\n",
    "    \"\"\"\n",
    "    Apply a fully connected layer to x_tensor using weight and bias\n",
    "    : x_tensor: A 2-D tensor where the first dimension is batch size.\n",
    "    : num_outputs: The number of output that the new tensor should be.\n",
    "    : return: A 2-D tensor where the second dimension is num_outputs.\n",
    "    \"\"\"\n",
    "    # TODO: Implement Function\n",
    "    return tf.contrib.layers.fully_connected(x_tensor, num_outputs)\n",
    "\n",
    "\n",
    "\"\"\"\n",
    "DON'T MODIFY ANYTHING IN THIS CELL THAT IS BELOW THIS LINE\n",
    "\"\"\"\n",
    "tests.test_fully_conn(fully_conn)"
   ]
  },
  {
   "cell_type": "markdown",
   "metadata": {},
   "source": [
    "### Output Layer\n",
    "Implement the `output` function to apply a fully connected layer to `x_tensor` with the shape (*Batch Size*, *num_outputs*). Shortcut option: you can use classes from the [TensorFlow Layers](https://www.tensorflow.org/api_docs/python/tf/layers) or [TensorFlow Layers (contrib)](https://www.tensorflow.org/api_guides/python/contrib.layers) packages for this layer. For more of a challenge, only use other TensorFlow packages.\n",
    "\n",
    "**Note:** Activation, softmax, or cross entropy should **not** be applied to this."
   ]
  },
  {
   "cell_type": "code",
   "execution_count": 11,
   "metadata": {},
   "outputs": [
    {
     "name": "stdout",
     "output_type": "stream",
     "text": [
      "Tests Passed\n"
     ]
    }
   ],
   "source": [
    "def output(x_tensor, num_outputs):\n",
    "    \"\"\"\n",
    "    Apply a output layer to x_tensor using weight and bias\n",
    "    : x_tensor: A 2-D tensor where the first dimension is batch size.\n",
    "    : num_outputs: The number of output that the new tensor should be.\n",
    "    : return: A 2-D tensor where the second dimension is num_outputs.\n",
    "    \"\"\"\n",
    "    # TODO: Implement Function\n",
    "    return tf.contrib.layers.fully_connected(x_tensor, num_outputs, activation_fn = None)\n",
    "\n",
    "\n",
    "\"\"\"\n",
    "DON'T MODIFY ANYTHING IN THIS CELL THAT IS BELOW THIS LINE\n",
    "\"\"\"\n",
    "tests.test_output(output)"
   ]
  },
  {
   "cell_type": "markdown",
   "metadata": {},
   "source": [
    "### Create Convolutional Model\n",
    "Implement the function `conv_net` to create a convolutional neural network model. The function takes in a batch of images, `x`, and outputs logits.  Use the layers you created above to create this model:\n",
    "\n",
    "* Apply 1, 2, or 3 Convolution and Max Pool layers\n",
    "* Apply a Flatten Layer\n",
    "* Apply 1, 2, or 3 Fully Connected Layers\n",
    "* Apply an Output Layer\n",
    "* Return the output\n",
    "* Apply [TensorFlow's Dropout](https://www.tensorflow.org/api_docs/python/tf/nn/dropout) to one or more layers in the model using `keep_prob`. "
   ]
  },
  {
   "cell_type": "code",
   "execution_count": 12,
   "metadata": {},
   "outputs": [
    {
     "name": "stdout",
     "output_type": "stream",
     "text": [
      "WARNING:tensorflow:From <ipython-input-12-740616bbe15c>:63: softmax_cross_entropy_with_logits (from tensorflow.python.ops.nn_ops) is deprecated and will be removed in a future version.\n",
      "Instructions for updating:\n",
      "\n",
      "Future major versions of TensorFlow will allow gradients to flow\n",
      "into the labels input on backprop by default.\n",
      "\n",
      "See tf.nn.softmax_cross_entropy_with_logits_v2.\n",
      "\n",
      "Neural Network Built!\n"
     ]
    }
   ],
   "source": [
    "def conv_net(x, keep_prob):\n",
    "    \"\"\"\n",
    "    Create a convolutional neural network model\n",
    "    : x: Placeholder tensor that holds image data.\n",
    "    : keep_prob: Placeholder tensor that hold dropout keep probability.\n",
    "    : return: Tensor that represents logits\n",
    "    \"\"\"\n",
    "    # TODO: Apply 1, 2, or 3 Convolution and Max Pool layers\n",
    "    #    Play around with different number of outputs, kernel size and stride\n",
    "    # Function Definition from Above:\n",
    "    #    conv2d_maxpool(x_tensor, conv_num_outputs, conv_ksize, conv_strides, pool_ksize, pool_strides)\n",
    "    x = conv2d_maxpool(x, 8, (4,4), (1,1), (3,3), (2,2))\n",
    "    x = conv2d_maxpool(x, 16, (4,4), (1,1), (3,3), (2,2))\n",
    "    x = conv2d_maxpool(x, 32, (4,4), (1,1), (3,3), (2,2))\n",
    "\n",
    "    # TODO: Apply a Flatten Layer\n",
    "    # Function Definition from Above:\n",
    "    #   flatten(x_tensor)\n",
    "    x = flatten(x)\n",
    "    x = tf.nn.dropout(x, keep_prob)\n",
    "\n",
    "    # TODO: Apply 1, 2, or 3 Fully Connected Layers\n",
    "    #    Play around with different number of outputs\n",
    "    # Function Definition from Above:\n",
    "    #   fully_conn(x_tensor, num_outputs)\n",
    "    x = fully_conn(x, 512)\n",
    "    x = fully_conn(x, 360)\n",
    "    x = tf.nn.dropout(x, keep_prob)\n",
    "    \n",
    "    # TODO: Apply an Output Layer\n",
    "    #    Set this to the number of classes\n",
    "    # Function Definition from Above:\n",
    "    #   output(x_tensor, num_outputs)\n",
    "    x = output(x, 10)\n",
    "    \n",
    "    # TODO: return output\n",
    "    return x\n",
    "\n",
    "\n",
    "\"\"\"\n",
    "DON'T MODIFY ANYTHING IN THIS CELL THAT IS BELOW THIS LINE\n",
    "\"\"\"\n",
    "\n",
    "##############################\n",
    "## Build the Neural Network ##\n",
    "##############################\n",
    "\n",
    "# Remove previous weights, bias, inputs, etc..\n",
    "tf.reset_default_graph()\n",
    "\n",
    "# Inputs\n",
    "x = neural_net_image_input((32, 32, 3))\n",
    "y = neural_net_label_input(10)\n",
    "keep_prob = neural_net_keep_prob_input()\n",
    "\n",
    "# Model\n",
    "logits = conv_net(x, keep_prob)\n",
    "\n",
    "# Name logits Tensor, so that is can be loaded from disk after training\n",
    "logits = tf.identity(logits, name='logits')\n",
    "\n",
    "# Loss and Optimizer\n",
    "cost = tf.reduce_mean(tf.nn.softmax_cross_entropy_with_logits(logits=logits, labels=y))\n",
    "optimizer = tf.train.AdamOptimizer().minimize(cost)\n",
    "\n",
    "# Accuracy\n",
    "correct_pred = tf.equal(tf.argmax(logits, 1), tf.argmax(y, 1))\n",
    "accuracy = tf.reduce_mean(tf.cast(correct_pred, tf.float32), name='accuracy')\n",
    "\n",
    "tests.test_conv_net(conv_net)"
   ]
  },
  {
   "cell_type": "markdown",
   "metadata": {},
   "source": [
    "## Train the Neural Network\n",
    "### Single Optimization\n",
    "Implement the function `train_neural_network` to do a single optimization.  The optimization should use `optimizer` to optimize in `session` with a `feed_dict` of the following:\n",
    "* `x` for image input\n",
    "* `y` for labels\n",
    "* `keep_prob` for keep probability for dropout\n",
    "\n",
    "This function will be called for each batch, so `tf.global_variables_initializer()` has already been called.\n",
    "\n",
    "Note: Nothing needs to be returned. This function is only optimizing the neural network."
   ]
  },
  {
   "cell_type": "code",
   "execution_count": 13,
   "metadata": {},
   "outputs": [
    {
     "name": "stdout",
     "output_type": "stream",
     "text": [
      "Tests Passed\n"
     ]
    }
   ],
   "source": [
    "def train_neural_network(session, optimizer, keep_probability, feature_batch, label_batch):\n",
    "    \"\"\"\n",
    "    Optimize the session on a batch of images and labels\n",
    "    : session: Current TensorFlow session\n",
    "    : optimizer: TensorFlow optimizer function\n",
    "    : keep_probability: keep probability\n",
    "    : feature_batch: Batch of Numpy image data\n",
    "    : label_batch: Batch of Numpy label data\n",
    "    \"\"\"\n",
    "    # TODO: Implement Function\n",
    "    session.run(optimizer, feed_dict = {x:feature_batch,\n",
    "                                       y:label_batch,\n",
    "                                       keep_prob:keep_probability})\n",
    "    pass\n",
    "\n",
    "\n",
    "\"\"\"\n",
    "DON'T MODIFY ANYTHING IN THIS CELL THAT IS BELOW THIS LINE\n",
    "\"\"\"\n",
    "tests.test_train_nn(train_neural_network)"
   ]
  },
  {
   "cell_type": "markdown",
   "metadata": {},
   "source": [
    "### Show Stats\n",
    "Implement the function `print_stats` to print loss and validation accuracy.  Use the global variables `valid_features` and `valid_labels` to calculate validation accuracy.  Use a keep probability of `1.0` to calculate the loss and validation accuracy."
   ]
  },
  {
   "cell_type": "code",
   "execution_count": 14,
   "metadata": {},
   "outputs": [],
   "source": [
    "def print_stats(session, feature_batch, label_batch, cost, accuracy):\n",
    "    \"\"\"\n",
    "    Print information about loss and validation accuracy\n",
    "    : session: Current TensorFlow session\n",
    "    : feature_batch: Batch of Numpy image data\n",
    "    : label_batch: Batch of Numpy label data\n",
    "    : cost: TensorFlow cost function\n",
    "    : accuracy: TensorFlow accuracy function\n",
    "    \"\"\"\n",
    "    # TODO: Implement Function\n",
    "    loss = session.run(cost, feed_dict = {x:feature_batch,\n",
    "                                         y:label_batch,\n",
    "                                         keep_prob:1.0})\n",
    "    \n",
    "    acc = session.run(accuracy, feed_dict = {x:valid_features,\n",
    "                                            y:valid_labels,\n",
    "                                            keep_prob:1.0})\n",
    "    \n",
    "    print('Loss={0} ValidAcc={1}'.format(loss, acc))"
   ]
  },
  {
   "cell_type": "markdown",
   "metadata": {},
   "source": [
    "### Hyperparameters\n",
    "Tune the following parameters:\n",
    "* Set `epochs` to the number of iterations until the network stops learning or start overfitting\n",
    "* Set `batch_size` to the highest number that your machine has memory for.  Most people set them to common sizes of memory:\n",
    " * 64\n",
    " * 128\n",
    " * 256\n",
    " * ...\n",
    "* Set `keep_probability` to the probability of keeping a node using dropout"
   ]
  },
  {
   "cell_type": "code",
   "execution_count": 15,
   "metadata": {},
   "outputs": [],
   "source": [
    "# TODO: Tune Parameters\n",
    "epochs = 30\n",
    "batch_size = 128\n",
    "keep_probability = 0.5"
   ]
  },
  {
   "cell_type": "markdown",
   "metadata": {},
   "source": [
    "### Train on a Single CIFAR-10 Batch\n",
    "Instead of training the neural network on all the CIFAR-10 batches of data, let's use a single batch. This should save time while you iterate on the model to get a better accuracy.  Once the final validation accuracy is 50% or greater, run the model on all the data in the next section."
   ]
  },
  {
   "cell_type": "code",
   "execution_count": 16,
   "metadata": {},
   "outputs": [
    {
     "name": "stdout",
     "output_type": "stream",
     "text": [
      "Checking the Training on a Single Batch...\n",
      "Epoch  1, CIFAR-10 Batch 1:  Loss=2.0848867893218994 ValidAcc=0.3203999996185303\n",
      "Epoch  2, CIFAR-10 Batch 1:  Loss=1.9546623229980469 ValidAcc=0.39640000462532043\n",
      "Epoch  3, CIFAR-10 Batch 1:  Loss=1.744245171546936 ValidAcc=0.42719998955726624\n",
      "Epoch  4, CIFAR-10 Batch 1:  Loss=1.6577389240264893 ValidAcc=0.4535999894142151\n",
      "Epoch  5, CIFAR-10 Batch 1:  Loss=1.471562385559082 ValidAcc=0.45019999146461487\n",
      "Epoch  6, CIFAR-10 Batch 1:  Loss=1.3510138988494873 ValidAcc=0.4779999852180481\n",
      "Epoch  7, CIFAR-10 Batch 1:  Loss=1.2480100393295288 ValidAcc=0.4941999912261963\n",
      "Epoch  8, CIFAR-10 Batch 1:  Loss=1.192188024520874 ValidAcc=0.5023999810218811\n",
      "Epoch  9, CIFAR-10 Batch 1:  Loss=1.0535728931427002 ValidAcc=0.5149999856948853\n",
      "Epoch 10, CIFAR-10 Batch 1:  Loss=0.9872962832450867 ValidAcc=0.5131999850273132\n",
      "Epoch 11, CIFAR-10 Batch 1:  Loss=0.9047711491584778 ValidAcc=0.5347999930381775\n",
      "Epoch 12, CIFAR-10 Batch 1:  Loss=0.8503435254096985 ValidAcc=0.5315999984741211\n",
      "Epoch 13, CIFAR-10 Batch 1:  Loss=0.792049765586853 ValidAcc=0.5315999984741211\n",
      "Epoch 14, CIFAR-10 Batch 1:  Loss=0.7134590148925781 ValidAcc=0.5424000024795532\n",
      "Epoch 15, CIFAR-10 Batch 1:  Loss=0.6943949460983276 ValidAcc=0.5479999780654907\n",
      "Epoch 16, CIFAR-10 Batch 1:  Loss=0.6692272424697876 ValidAcc=0.5446000099182129\n",
      "Epoch 17, CIFAR-10 Batch 1:  Loss=0.6045161485671997 ValidAcc=0.548799991607666\n",
      "Epoch 18, CIFAR-10 Batch 1:  Loss=0.5845649242401123 ValidAcc=0.5392000079154968\n",
      "Epoch 19, CIFAR-10 Batch 1:  Loss=0.5721024870872498 ValidAcc=0.5432000160217285\n",
      "Epoch 20, CIFAR-10 Batch 1:  Loss=0.5281816720962524 ValidAcc=0.5410000085830688\n",
      "Epoch 21, CIFAR-10 Batch 1:  Loss=0.4587995409965515 ValidAcc=0.5496000051498413\n",
      "Epoch 22, CIFAR-10 Batch 1:  Loss=0.4277728497982025 ValidAcc=0.5455999970436096\n",
      "Epoch 23, CIFAR-10 Batch 1:  Loss=0.3843021094799042 ValidAcc=0.5562000274658203\n",
      "Epoch 24, CIFAR-10 Batch 1:  Loss=0.35522568225860596 ValidAcc=0.5559999942779541\n",
      "Epoch 25, CIFAR-10 Batch 1:  Loss=0.3201631009578705 ValidAcc=0.5496000051498413\n",
      "Epoch 26, CIFAR-10 Batch 1:  Loss=0.2914814352989197 ValidAcc=0.5626000165939331\n",
      "Epoch 27, CIFAR-10 Batch 1:  Loss=0.2864159345626831 ValidAcc=0.5608000159263611\n",
      "Epoch 28, CIFAR-10 Batch 1:  Loss=0.2614268660545349 ValidAcc=0.5622000098228455\n",
      "Epoch 29, CIFAR-10 Batch 1:  Loss=0.23876376450061798 ValidAcc=0.550599992275238\n",
      "Epoch 30, CIFAR-10 Batch 1:  Loss=0.2355078160762787 ValidAcc=0.545799970626831\n"
     ]
    }
   ],
   "source": [
    "\"\"\"\n",
    "DON'T MODIFY ANYTHING IN THIS CELL\n",
    "\"\"\"\n",
    "print('Checking the Training on a Single Batch...')\n",
    "with tf.Session() as sess:\n",
    "    # Initializing the variables\n",
    "    sess.run(tf.global_variables_initializer())\n",
    "    \n",
    "    # Training cycle\n",
    "    for epoch in range(epochs):\n",
    "        batch_i = 1\n",
    "        for batch_features, batch_labels in helper.load_preprocess_training_batch(batch_i, batch_size):\n",
    "            train_neural_network(sess, optimizer, keep_probability, batch_features, batch_labels)\n",
    "        print('Epoch {:>2}, CIFAR-10 Batch {}:  '.format(epoch + 1, batch_i), end='')\n",
    "        print_stats(sess, batch_features, batch_labels, cost, accuracy)"
   ]
  },
  {
   "cell_type": "markdown",
   "metadata": {},
   "source": [
    "### Fully Train the Model\n",
    "Now that you got a good accuracy with a single CIFAR-10 batch, try it with all five batches."
   ]
  },
  {
   "cell_type": "code",
   "execution_count": 17,
   "metadata": {
    "scrolled": false
   },
   "outputs": [
    {
     "name": "stdout",
     "output_type": "stream",
     "text": [
      "Training...\n",
      "Epoch  1, CIFAR-10 Batch 1:  Loss=2.1549739837646484 ValidAcc=0.31139999628067017\n",
      "Epoch  1, CIFAR-10 Batch 2:  Loss=1.7578086853027344 ValidAcc=0.3610000014305115\n",
      "Epoch  1, CIFAR-10 Batch 3:  Loss=1.5189200639724731 ValidAcc=0.4052000045776367\n",
      "Epoch  1, CIFAR-10 Batch 4:  Loss=1.6051340103149414 ValidAcc=0.4300000071525574\n",
      "Epoch  1, CIFAR-10 Batch 5:  Loss=1.6095550060272217 ValidAcc=0.4323999881744385\n",
      "Epoch  2, CIFAR-10 Batch 1:  Loss=1.6412948369979858 ValidAcc=0.4690000116825104\n",
      "Epoch  2, CIFAR-10 Batch 2:  Loss=1.5210344791412354 ValidAcc=0.4447999894618988\n",
      "Epoch  2, CIFAR-10 Batch 3:  Loss=1.3498424291610718 ValidAcc=0.46399998664855957\n",
      "Epoch  2, CIFAR-10 Batch 4:  Loss=1.3755595684051514 ValidAcc=0.4875999987125397\n",
      "Epoch  2, CIFAR-10 Batch 5:  Loss=1.4821993112564087 ValidAcc=0.49799999594688416\n",
      "Epoch  3, CIFAR-10 Batch 1:  Loss=1.4353249073028564 ValidAcc=0.5113999843597412\n",
      "Epoch  3, CIFAR-10 Batch 2:  Loss=1.384865164756775 ValidAcc=0.4952000081539154\n",
      "Epoch  3, CIFAR-10 Batch 3:  Loss=1.2327899932861328 ValidAcc=0.5099999904632568\n",
      "Epoch  3, CIFAR-10 Batch 4:  Loss=1.2374012470245361 ValidAcc=0.5317999720573425\n",
      "Epoch  3, CIFAR-10 Batch 5:  Loss=1.3277114629745483 ValidAcc=0.52920001745224\n",
      "Epoch  4, CIFAR-10 Batch 1:  Loss=1.2687914371490479 ValidAcc=0.545799970626831\n",
      "Epoch  4, CIFAR-10 Batch 2:  Loss=1.2716541290283203 ValidAcc=0.5508000254631042\n",
      "Epoch  4, CIFAR-10 Batch 3:  Loss=1.1842855215072632 ValidAcc=0.5460000038146973\n",
      "Epoch  4, CIFAR-10 Batch 4:  Loss=1.121938943862915 ValidAcc=0.5600000023841858\n",
      "Epoch  4, CIFAR-10 Batch 5:  Loss=1.2187561988830566 ValidAcc=0.5590000152587891\n",
      "Epoch  5, CIFAR-10 Batch 1:  Loss=1.1862291097640991 ValidAcc=0.5699999928474426\n",
      "Epoch  5, CIFAR-10 Batch 2:  Loss=1.274229645729065 ValidAcc=0.5734000205993652\n",
      "Epoch  5, CIFAR-10 Batch 3:  Loss=1.0625251531600952 ValidAcc=0.5483999848365784\n",
      "Epoch  5, CIFAR-10 Batch 4:  Loss=1.0319890975952148 ValidAcc=0.58160001039505\n",
      "Epoch  5, CIFAR-10 Batch 5:  Loss=1.1674473285675049 ValidAcc=0.5745999813079834\n",
      "Epoch  6, CIFAR-10 Batch 1:  Loss=1.0979185104370117 ValidAcc=0.5834000110626221\n",
      "Epoch  6, CIFAR-10 Batch 2:  Loss=1.0691732168197632 ValidAcc=0.5856000185012817\n",
      "Epoch  6, CIFAR-10 Batch 3:  Loss=0.8671423196792603 ValidAcc=0.5968000292778015\n",
      "Epoch  6, CIFAR-10 Batch 4:  Loss=0.9920662045478821 ValidAcc=0.6025999784469604\n",
      "Epoch  6, CIFAR-10 Batch 5:  Loss=1.0295922756195068 ValidAcc=0.5968000292778015\n",
      "Epoch  7, CIFAR-10 Batch 1:  Loss=0.9729331731796265 ValidAcc=0.6043999791145325\n",
      "Epoch  7, CIFAR-10 Batch 2:  Loss=1.0723521709442139 ValidAcc=0.6047999858856201\n",
      "Epoch  7, CIFAR-10 Batch 3:  Loss=0.8331571817398071 ValidAcc=0.6150000095367432\n",
      "Epoch  7, CIFAR-10 Batch 4:  Loss=0.8910659551620483 ValidAcc=0.6176000237464905\n",
      "Epoch  7, CIFAR-10 Batch 5:  Loss=0.921749472618103 ValidAcc=0.618399977684021\n",
      "Epoch  8, CIFAR-10 Batch 1:  Loss=0.9202176928520203 ValidAcc=0.6169999837875366\n",
      "Epoch  8, CIFAR-10 Batch 2:  Loss=1.007781744003296 ValidAcc=0.6227999925613403\n",
      "Epoch  8, CIFAR-10 Batch 3:  Loss=0.7757468819618225 ValidAcc=0.6191999912261963\n",
      "Epoch  8, CIFAR-10 Batch 4:  Loss=0.8498541116714478 ValidAcc=0.6158000230789185\n",
      "Epoch  8, CIFAR-10 Batch 5:  Loss=0.8417025804519653 ValidAcc=0.61080002784729\n",
      "Epoch  9, CIFAR-10 Batch 1:  Loss=0.9141206741333008 ValidAcc=0.6186000108718872\n",
      "Epoch  9, CIFAR-10 Batch 2:  Loss=0.8970142602920532 ValidAcc=0.6326000094413757\n",
      "Epoch  9, CIFAR-10 Batch 3:  Loss=0.6741188168525696 ValidAcc=0.625\n",
      "Epoch  9, CIFAR-10 Batch 4:  Loss=0.8131605982780457 ValidAcc=0.6412000060081482\n",
      "Epoch  9, CIFAR-10 Batch 5:  Loss=0.7949819564819336 ValidAcc=0.6381999850273132\n",
      "Epoch 10, CIFAR-10 Batch 1:  Loss=0.803387463092804 ValidAcc=0.6434000134468079\n",
      "Epoch 10, CIFAR-10 Batch 2:  Loss=0.8602269291877747 ValidAcc=0.6413999795913696\n",
      "Epoch 10, CIFAR-10 Batch 3:  Loss=0.6661773324012756 ValidAcc=0.6424000263214111\n",
      "Epoch 10, CIFAR-10 Batch 4:  Loss=0.7201180458068848 ValidAcc=0.6317999958992004\n",
      "Epoch 10, CIFAR-10 Batch 5:  Loss=0.7680842876434326 ValidAcc=0.6276000142097473\n",
      "Epoch 11, CIFAR-10 Batch 1:  Loss=0.7565797567367554 ValidAcc=0.6323999762535095\n",
      "Epoch 11, CIFAR-10 Batch 2:  Loss=0.8361837267875671 ValidAcc=0.6471999883651733\n",
      "Epoch 11, CIFAR-10 Batch 3:  Loss=0.6437889337539673 ValidAcc=0.6395999789237976\n",
      "Epoch 11, CIFAR-10 Batch 4:  Loss=0.6905113458633423 ValidAcc=0.6485999822616577\n",
      "Epoch 11, CIFAR-10 Batch 5:  Loss=0.6613931059837341 ValidAcc=0.6462000012397766\n",
      "Epoch 12, CIFAR-10 Batch 1:  Loss=0.7063729166984558 ValidAcc=0.6517999768257141\n",
      "Epoch 12, CIFAR-10 Batch 2:  Loss=0.7427600622177124 ValidAcc=0.657800018787384\n",
      "Epoch 12, CIFAR-10 Batch 3:  Loss=0.5572736263275146 ValidAcc=0.6284000277519226\n",
      "Epoch 12, CIFAR-10 Batch 4:  Loss=0.6533961296081543 ValidAcc=0.651199996471405\n",
      "Epoch 12, CIFAR-10 Batch 5:  Loss=0.6495494246482849 ValidAcc=0.652400016784668\n",
      "Epoch 13, CIFAR-10 Batch 1:  Loss=0.6813393235206604 ValidAcc=0.6498000025749207\n",
      "Epoch 13, CIFAR-10 Batch 2:  Loss=0.6765486598014832 ValidAcc=0.6607999801635742\n",
      "Epoch 13, CIFAR-10 Batch 3:  Loss=0.5532470345497131 ValidAcc=0.6503999829292297\n",
      "Epoch 13, CIFAR-10 Batch 4:  Loss=0.6093834638595581 ValidAcc=0.6687999963760376\n",
      "Epoch 13, CIFAR-10 Batch 5:  Loss=0.5922404527664185 ValidAcc=0.6593999862670898\n",
      "Epoch 14, CIFAR-10 Batch 1:  Loss=0.6422073841094971 ValidAcc=0.6603999733924866\n",
      "Epoch 14, CIFAR-10 Batch 2:  Loss=0.674532949924469 ValidAcc=0.6651999950408936\n",
      "Epoch 14, CIFAR-10 Batch 3:  Loss=0.5043995380401611 ValidAcc=0.644599974155426\n",
      "Epoch 14, CIFAR-10 Batch 4:  Loss=0.6271833181381226 ValidAcc=0.6610000133514404\n",
      "Epoch 14, CIFAR-10 Batch 5:  Loss=0.577251136302948 ValidAcc=0.6547999978065491\n",
      "Epoch 15, CIFAR-10 Batch 1:  Loss=0.6022124290466309 ValidAcc=0.659600019454956\n",
      "Epoch 15, CIFAR-10 Batch 2:  Loss=0.5985099077224731 ValidAcc=0.6733999848365784\n",
      "Epoch 15, CIFAR-10 Batch 3:  Loss=0.5233880877494812 ValidAcc=0.6525999903678894\n",
      "Epoch 15, CIFAR-10 Batch 4:  Loss=0.5649319291114807 ValidAcc=0.6661999821662903\n",
      "Epoch 15, CIFAR-10 Batch 5:  Loss=0.4930385649204254 ValidAcc=0.6647999882698059\n",
      "Epoch 16, CIFAR-10 Batch 1:  Loss=0.5268404483795166 ValidAcc=0.6632000207901001\n",
      "Epoch 16, CIFAR-10 Batch 2:  Loss=0.6006070971488953 ValidAcc=0.6797999739646912\n",
      "Epoch 16, CIFAR-10 Batch 3:  Loss=0.5178593397140503 ValidAcc=0.6521999835968018\n",
      "Epoch 16, CIFAR-10 Batch 4:  Loss=0.5167279839515686 ValidAcc=0.6729999780654907\n",
      "Epoch 16, CIFAR-10 Batch 5:  Loss=0.5090152621269226 ValidAcc=0.6657999753952026\n",
      "Epoch 17, CIFAR-10 Batch 1:  Loss=0.5135453939437866 ValidAcc=0.6710000038146973\n",
      "Epoch 17, CIFAR-10 Batch 2:  Loss=0.580987811088562 ValidAcc=0.671999990940094\n",
      "Epoch 17, CIFAR-10 Batch 3:  Loss=0.4364653527736664 ValidAcc=0.6632000207901001\n",
      "Epoch 17, CIFAR-10 Batch 4:  Loss=0.5297917723655701 ValidAcc=0.6582000255584717\n",
      "Epoch 17, CIFAR-10 Batch 5:  Loss=0.45130714774131775 ValidAcc=0.6686000227928162\n",
      "Epoch 18, CIFAR-10 Batch 1:  Loss=0.4580370783805847 ValidAcc=0.6773999929428101\n",
      "Epoch 18, CIFAR-10 Batch 2:  Loss=0.5569018125534058 ValidAcc=0.6675999760627747\n",
      "Epoch 18, CIFAR-10 Batch 3:  Loss=0.40621423721313477 ValidAcc=0.6647999882698059\n",
      "Epoch 18, CIFAR-10 Batch 4:  Loss=0.4657439589500427 ValidAcc=0.6693999767303467\n",
      "Epoch 18, CIFAR-10 Batch 5:  Loss=0.49225062131881714 ValidAcc=0.670199990272522\n",
      "Epoch 19, CIFAR-10 Batch 1:  Loss=0.4556008279323578 ValidAcc=0.6779999732971191\n",
      "Epoch 19, CIFAR-10 Batch 2:  Loss=0.5079181790351868 ValidAcc=0.673799991607666\n",
      "Epoch 19, CIFAR-10 Batch 3:  Loss=0.43508997559547424 ValidAcc=0.6692000031471252\n",
      "Epoch 19, CIFAR-10 Batch 4:  Loss=0.4412689208984375 ValidAcc=0.6710000038146973\n",
      "Epoch 19, CIFAR-10 Batch 5:  Loss=0.4354896545410156 ValidAcc=0.6725999712944031\n",
      "Epoch 20, CIFAR-10 Batch 1:  Loss=0.46738147735595703 ValidAcc=0.6754000186920166\n",
      "Epoch 20, CIFAR-10 Batch 2:  Loss=0.4647092819213867 ValidAcc=0.6883999705314636\n",
      "Epoch 20, CIFAR-10 Batch 3:  Loss=0.38537293672561646 ValidAcc=0.6625999808311462\n",
      "Epoch 20, CIFAR-10 Batch 4:  Loss=0.38969308137893677 ValidAcc=0.6740000247955322\n",
      "Epoch 20, CIFAR-10 Batch 5:  Loss=0.39605697989463806 ValidAcc=0.6740000247955322\n",
      "Epoch 21, CIFAR-10 Batch 1:  Loss=0.4168802797794342 ValidAcc=0.6841999888420105\n"
     ]
    },
    {
     "name": "stdout",
     "output_type": "stream",
     "text": [
      "Epoch 21, CIFAR-10 Batch 2:  Loss=0.4358389973640442 ValidAcc=0.6800000071525574\n",
      "Epoch 21, CIFAR-10 Batch 3:  Loss=0.37376394867897034 ValidAcc=0.6836000084877014\n",
      "Epoch 21, CIFAR-10 Batch 4:  Loss=0.374085396528244 ValidAcc=0.6796000003814697\n",
      "Epoch 21, CIFAR-10 Batch 5:  Loss=0.3629857301712036 ValidAcc=0.6700000166893005\n",
      "Epoch 22, CIFAR-10 Batch 1:  Loss=0.42865505814552307 ValidAcc=0.6725999712944031\n",
      "Epoch 22, CIFAR-10 Batch 2:  Loss=0.4448178708553314 ValidAcc=0.6761999726295471\n",
      "Epoch 22, CIFAR-10 Batch 3:  Loss=0.36441507935523987 ValidAcc=0.6710000038146973\n",
      "Epoch 22, CIFAR-10 Batch 4:  Loss=0.4073505997657776 ValidAcc=0.6801999807357788\n",
      "Epoch 22, CIFAR-10 Batch 5:  Loss=0.3251010775566101 ValidAcc=0.675000011920929\n",
      "Epoch 23, CIFAR-10 Batch 1:  Loss=0.3881458640098572 ValidAcc=0.6869999766349792\n",
      "Epoch 23, CIFAR-10 Batch 2:  Loss=0.3617280125617981 ValidAcc=0.6887999773025513\n",
      "Epoch 23, CIFAR-10 Batch 3:  Loss=0.34203118085861206 ValidAcc=0.6700000166893005\n",
      "Epoch 23, CIFAR-10 Batch 4:  Loss=0.3329847455024719 ValidAcc=0.6773999929428101\n",
      "Epoch 23, CIFAR-10 Batch 5:  Loss=0.31024521589279175 ValidAcc=0.6808000206947327\n",
      "Epoch 24, CIFAR-10 Batch 1:  Loss=0.36187052726745605 ValidAcc=0.6891999840736389\n",
      "Epoch 24, CIFAR-10 Batch 2:  Loss=0.36461296677589417 ValidAcc=0.6931999921798706\n",
      "Epoch 24, CIFAR-10 Batch 3:  Loss=0.27701616287231445 ValidAcc=0.6855999827384949\n",
      "Epoch 24, CIFAR-10 Batch 4:  Loss=0.3058927059173584 ValidAcc=0.6858000159263611\n",
      "Epoch 24, CIFAR-10 Batch 5:  Loss=0.31726932525634766 ValidAcc=0.6919999718666077\n",
      "Epoch 25, CIFAR-10 Batch 1:  Loss=0.3328922688961029 ValidAcc=0.6872000098228455\n",
      "Epoch 25, CIFAR-10 Batch 2:  Loss=0.34647929668426514 ValidAcc=0.6912000179290771\n",
      "Epoch 25, CIFAR-10 Batch 3:  Loss=0.33073270320892334 ValidAcc=0.6751999855041504\n",
      "Epoch 25, CIFAR-10 Batch 4:  Loss=0.3485678732395172 ValidAcc=0.673799991607666\n",
      "Epoch 25, CIFAR-10 Batch 5:  Loss=0.35662680864334106 ValidAcc=0.6841999888420105\n",
      "Epoch 26, CIFAR-10 Batch 1:  Loss=0.2828670144081116 ValidAcc=0.6937999725341797\n",
      "Epoch 26, CIFAR-10 Batch 2:  Loss=0.35136669874191284 ValidAcc=0.6859999895095825\n",
      "Epoch 26, CIFAR-10 Batch 3:  Loss=0.29650604724884033 ValidAcc=0.6791999936103821\n",
      "Epoch 26, CIFAR-10 Batch 4:  Loss=0.3395901918411255 ValidAcc=0.694599986076355\n",
      "Epoch 26, CIFAR-10 Batch 5:  Loss=0.31298741698265076 ValidAcc=0.6872000098228455\n",
      "Epoch 27, CIFAR-10 Batch 1:  Loss=0.2810456156730652 ValidAcc=0.6872000098228455\n",
      "Epoch 27, CIFAR-10 Batch 2:  Loss=0.32076919078826904 ValidAcc=0.6898000240325928\n",
      "Epoch 27, CIFAR-10 Batch 3:  Loss=0.2735517621040344 ValidAcc=0.6894000172615051\n",
      "Epoch 27, CIFAR-10 Batch 4:  Loss=0.30165794491767883 ValidAcc=0.6858000159263611\n",
      "Epoch 27, CIFAR-10 Batch 5:  Loss=0.2527042329311371 ValidAcc=0.6886000037193298\n",
      "Epoch 28, CIFAR-10 Batch 1:  Loss=0.2558397650718689 ValidAcc=0.696399986743927\n",
      "Epoch 28, CIFAR-10 Batch 2:  Loss=0.30551648139953613 ValidAcc=0.6904000043869019\n",
      "Epoch 28, CIFAR-10 Batch 3:  Loss=0.26194140315055847 ValidAcc=0.694599986076355\n",
      "Epoch 28, CIFAR-10 Batch 4:  Loss=0.27112773060798645 ValidAcc=0.6908000111579895\n",
      "Epoch 28, CIFAR-10 Batch 5:  Loss=0.25415512919425964 ValidAcc=0.6890000104904175\n",
      "Epoch 29, CIFAR-10 Batch 1:  Loss=0.2841895818710327 ValidAcc=0.6972000002861023\n",
      "Epoch 29, CIFAR-10 Batch 2:  Loss=0.30329883098602295 ValidAcc=0.6937999725341797\n",
      "Epoch 29, CIFAR-10 Batch 3:  Loss=0.2961500585079193 ValidAcc=0.671999990940094\n",
      "Epoch 29, CIFAR-10 Batch 4:  Loss=0.2556079030036926 ValidAcc=0.6836000084877014\n",
      "Epoch 29, CIFAR-10 Batch 5:  Loss=0.28830790519714355 ValidAcc=0.6905999779701233\n",
      "Epoch 30, CIFAR-10 Batch 1:  Loss=0.26677513122558594 ValidAcc=0.6862000226974487\n",
      "Epoch 30, CIFAR-10 Batch 2:  Loss=0.29404228925704956 ValidAcc=0.6881999969482422\n",
      "Epoch 30, CIFAR-10 Batch 3:  Loss=0.2551036477088928 ValidAcc=0.6887999773025513\n",
      "Epoch 30, CIFAR-10 Batch 4:  Loss=0.2565411329269409 ValidAcc=0.6883999705314636\n",
      "Epoch 30, CIFAR-10 Batch 5:  Loss=0.24452057480812073 ValidAcc=0.6901999711990356\n"
     ]
    }
   ],
   "source": [
    "\"\"\"\n",
    "DON'T MODIFY ANYTHING IN THIS CELL\n",
    "\"\"\"\n",
    "save_model_path = './image_classification'\n",
    "\n",
    "print('Training...')\n",
    "with tf.Session() as sess:\n",
    "    # Initializing the variables\n",
    "    sess.run(tf.global_variables_initializer())\n",
    "    \n",
    "    # Training cycle\n",
    "    for epoch in range(epochs):\n",
    "        # Loop over all batches\n",
    "        n_batches = 5\n",
    "        for batch_i in range(1, n_batches + 1):\n",
    "            for batch_features, batch_labels in helper.load_preprocess_training_batch(batch_i, batch_size):\n",
    "                train_neural_network(sess, optimizer, keep_probability, batch_features, batch_labels)\n",
    "            print('Epoch {:>2}, CIFAR-10 Batch {}:  '.format(epoch + 1, batch_i), end='')\n",
    "            print_stats(sess, batch_features, batch_labels, cost, accuracy)\n",
    "            \n",
    "    # Save Model\n",
    "    saver = tf.train.Saver()\n",
    "    save_path = saver.save(sess, save_model_path)"
   ]
  },
  {
   "cell_type": "markdown",
   "metadata": {},
   "source": [
    "# Checkpoint\n",
    "The model has been saved to disk.\n",
    "## Test Model\n",
    "Test your model against the test dataset.  This will be your final accuracy. You should have an accuracy greater than 50%. If you don't, keep tweaking the model architecture and parameters."
   ]
  },
  {
   "cell_type": "code",
   "execution_count": 18,
   "metadata": {},
   "outputs": [
    {
     "name": "stdout",
     "output_type": "stream",
     "text": [
      "INFO:tensorflow:Restoring parameters from ./image_classification\n",
      "Testing Accuracy: 0.6852254746835443\n",
      "\n"
     ]
    },
    {
     "data": {
      "image/png": "[encoded data removed]",
      "text/plain": [
       "<matplotlib.figure.Figure at 0x1a41d8c390>"
      ]
     },
     "metadata": {
      "image/png": {
       "height": 319,
       "width": 355
      }
     },
     "output_type": "display_data"
    }
   ],
   "source": [
    "\"\"\"\n",
    "DON'T MODIFY ANYTHING IN THIS CELL\n",
    "\"\"\"\n",
    "%matplotlib inline\n",
    "%config InlineBackend.figure_format = 'retina'\n",
    "\n",
    "import tensorflow as tf\n",
    "import pickle\n",
    "import helper\n",
    "import random\n",
    "\n",
    "# Set batch size if not already set\n",
    "try:\n",
    "    if batch_size:\n",
    "        pass\n",
    "except NameError:\n",
    "    batch_size = 64\n",
    "\n",
    "save_model_path = './image_classification'\n",
    "n_samples = 4\n",
    "top_n_predictions = 3\n",
    "\n",
    "def test_model():\n",
    "    \"\"\"\n",
    "    Test the saved model against the test dataset\n",
    "    \"\"\"\n",
    "\n",
    "    test_features, test_labels = pickle.load(open('preprocess_training.p', mode='rb'))\n",
    "    loaded_graph = tf.Graph()\n",
    "\n",
    "    with tf.Session(graph=loaded_graph) as sess:\n",
    "        # Load model\n",
    "        loader = tf.train.import_meta_graph(save_model_path + '.meta')\n",
    "        loader.restore(sess, save_model_path)\n",
    "\n",
    "        # Get Tensors from loaded model\n",
    "        loaded_x = loaded_graph.get_tensor_by_name('x:0')\n",
    "        loaded_y = loaded_graph.get_tensor_by_name('y:0')\n",
    "        loaded_keep_prob = loaded_graph.get_tensor_by_name('keep_prob:0')\n",
    "        loaded_logits = loaded_graph.get_tensor_by_name('logits:0')\n",
    "        loaded_acc = loaded_graph.get_tensor_by_name('accuracy:0')\n",
    "        \n",
    "        # Get accuracy in batches for memory limitations\n",
    "        test_batch_acc_total = 0\n",
    "        test_batch_count = 0\n",
    "        \n",
    "        for train_feature_batch, train_label_batch in helper.batch_features_labels(test_features, test_labels, batch_size):\n",
    "            test_batch_acc_total += sess.run(\n",
    "                loaded_acc,\n",
    "                feed_dict={loaded_x: train_feature_batch, loaded_y: train_label_batch, loaded_keep_prob: 1.0})\n",
    "            test_batch_count += 1\n",
    "\n",
    "        print('Testing Accuracy: {}\\n'.format(test_batch_acc_total/test_batch_count))\n",
    "\n",
    "        # Print Random Samples\n",
    "        random_test_features, random_test_labels = tuple(zip(*random.sample(list(zip(test_features, test_labels)), n_samples)))\n",
    "        random_test_predictions = sess.run(\n",
    "            tf.nn.top_k(tf.nn.softmax(loaded_logits), top_n_predictions),\n",
    "            feed_dict={loaded_x: random_test_features, loaded_y: random_test_labels, loaded_keep_prob: 1.0})\n",
    "        helper.display_image_predictions(random_test_features, random_test_labels, random_test_predictions)\n",
    "\n",
    "\n",
    "test_model()"
   ]
  },
  {
   "cell_type": "markdown",
   "metadata": {},
   "source": [
    "## Why 50-80% Accuracy?\n",
    "You might be wondering why you can't get an accuracy any higher. First things first, 50% isn't bad for a simple CNN.  Pure guessing would get you 10% accuracy. That's because there are many more techniques that can be applied to your model and we recemmond that once you are done with this project, you explore!\n",
    "\n",
    "## Submitting This Project\n",
    "When submitting this project, make sure to run all the cells before saving the notebook.  Save the notebook file as \"image_classification.ipynb\" and save it as a HTML file under \"File\" -> \"Download as\".  Include the \"helper.py\" and \"problem_unittests.py\" files in your submission."
   ]
  },
  {
   "cell_type": "code",
   "execution_count": null,
   "metadata": {},
   "outputs": [],
   "source": []
  }
 ],
 "metadata": {
  "kernelspec": {
   "display_name": "Python 3",
   "language": "python",
   "name": "python3"
  },
  "language_info": {
   "codemirror_mode": {
    "name": "ipython",
    "version": 3
   },
   "file_extension": ".py",
   "mimetype": "text/x-python",
   "name": "python",
   "nbconvert_exporter": "python",
   "pygments_lexer": "ipython3",
   "version": "3.5.4"
  }
 },
 "nbformat": 4,
 "nbformat_minor": 1
}
